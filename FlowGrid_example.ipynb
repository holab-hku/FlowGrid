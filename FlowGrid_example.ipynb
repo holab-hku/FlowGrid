{
 "cells": [
  {
   "cell_type": "code",
   "execution_count": 1,
   "metadata": {},
   "outputs": [],
   "source": [
    "import FlowGrid as fg\n",
    "import scanpy as sc\n",
    "import sys"
   ]
  },
  {
   "cell_type": "code",
   "execution_count": 2,
   "metadata": {},
   "outputs": [],
   "source": [
    "###READ DATA\n",
    "adata = sc.read('GSE102827_merged_all_raw.h5ad')"
   ]
  },
  {
   "cell_type": "code",
   "execution_count": 3,
   "metadata": {},
   "outputs": [
    {
     "data": {
      "text/plain": [
       "AnnData object with n_obs × n_vars = 65539 × 25187\n",
       "    obs: 'stim', 'sample', 'maintype', 'celltype', 'subtype'"
      ]
     },
     "execution_count": 3,
     "metadata": {},
     "output_type": "execute_result"
    }
   ],
   "source": [
    "adata"
   ]
  },
  {
   "cell_type": "code",
   "execution_count": 4,
   "metadata": {},
   "outputs": [],
   "source": [
    "#Normalization\n",
    "sc.pp.normalize_total(adata)\n",
    "sc.pp.log1p(adata)\n",
    "adata.raw = adata\n",
    "\n",
    "#Highly variable genes selection\n",
    "sc.pp.highly_variable_genes(adata, min_mean=0.0125, max_mean=3, min_disp=0.5)\n",
    "adata = adata[:, adata.var['highly_variable']]"
   ]
  },
  {
   "cell_type": "code",
   "execution_count": 5,
   "metadata": {},
   "outputs": [],
   "source": [
    "#PCA to 5 dimensions#\n",
    "sc.tl.pca(adata, n_comps=5)"
   ]
  },
  {
   "cell_type": "code",
   "execution_count": 6,
   "metadata": {},
   "outputs": [
    {
     "data": {
      "text/plain": [
       "AnnData object with n_obs × n_vars = 65539 × 3242\n",
       "    obs: 'stim', 'sample', 'maintype', 'celltype', 'subtype'\n",
       "    var: 'highly_variable', 'means', 'dispersions', 'dispersions_norm'\n",
       "    uns: 'log1p', 'hvg', 'pca'\n",
       "    obsm: 'X_pca'\n",
       "    varm: 'PCs'"
      ]
     },
     "execution_count": 6,
     "metadata": {},
     "output_type": "execute_result"
    }
   ],
   "source": [
    "adata"
   ]
  },
  {
   "cell_type": "code",
   "execution_count": 7,
   "metadata": {},
   "outputs": [
    {
     "name": "stdout",
     "output_type": "stream",
     "text": [
      "autoFlowGrid Starts!\n",
      "autoFlowGrid completed in : 27.686 seconds.\n",
      "29 sets of parameters are stored.\n",
      "3 sets of parameters are recommended.\n",
      "\n"
     ]
    }
   ],
   "source": [
    "recomm_parameters,CHI_report= fg.autoFlowGrid(adata,3)"
   ]
  },
  {
   "cell_type": "code",
   "execution_count": 8,
   "metadata": {},
   "outputs": [
    {
     "data": {
      "text/html": [
       "<div>\n",
       "<style scoped>\n",
       "    .dataframe tbody tr th:only-of-type {\n",
       "        vertical-align: middle;\n",
       "    }\n",
       "\n",
       "    .dataframe tbody tr th {\n",
       "        vertical-align: top;\n",
       "    }\n",
       "\n",
       "    .dataframe thead th {\n",
       "        text-align: right;\n",
       "    }\n",
       "</style>\n",
       "<table border=\"1\" class=\"dataframe\">\n",
       "  <thead>\n",
       "    <tr style=\"text-align: right;\">\n",
       "      <th></th>\n",
       "      <th>iCHI</th>\n",
       "      <th>CHI</th>\n",
       "      <th>nobs</th>\n",
       "    </tr>\n",
       "  </thead>\n",
       "  <tbody>\n",
       "    <tr>\n",
       "      <th>binN_10_eps_1.0_FlowGrid</th>\n",
       "      <td>882791</td>\n",
       "      <td>19618</td>\n",
       "      <td>45</td>\n",
       "    </tr>\n",
       "    <tr>\n",
       "      <th>binN_5_eps_1.0_FlowGrid</th>\n",
       "      <td>855735</td>\n",
       "      <td>45039</td>\n",
       "      <td>19</td>\n",
       "    </tr>\n",
       "    <tr>\n",
       "      <th>binN_7_eps_1.0_FlowGrid</th>\n",
       "      <td>678935</td>\n",
       "      <td>18350</td>\n",
       "      <td>37</td>\n",
       "    </tr>\n",
       "    <tr>\n",
       "      <th>binN_11_eps_1.0_FlowGrid</th>\n",
       "      <td>678430</td>\n",
       "      <td>14748</td>\n",
       "      <td>46</td>\n",
       "    </tr>\n",
       "    <tr>\n",
       "      <th>binN_15_eps_1.6_FlowGrid</th>\n",
       "      <td>642825</td>\n",
       "      <td>20736</td>\n",
       "      <td>31</td>\n",
       "    </tr>\n",
       "    <tr>\n",
       "      <th>binN_9_eps_1.0_FlowGrid</th>\n",
       "      <td>622054</td>\n",
       "      <td>16812</td>\n",
       "      <td>37</td>\n",
       "    </tr>\n",
       "    <tr>\n",
       "      <th>binN_11_eps_1.6_FlowGrid</th>\n",
       "      <td>615403</td>\n",
       "      <td>29305</td>\n",
       "      <td>21</td>\n",
       "    </tr>\n",
       "    <tr>\n",
       "      <th>binN_12_eps_1.0_FlowGrid</th>\n",
       "      <td>528115</td>\n",
       "      <td>10156</td>\n",
       "      <td>52</td>\n",
       "    </tr>\n",
       "    <tr>\n",
       "      <th>binN_6_eps_1.0_FlowGrid</th>\n",
       "      <td>516769</td>\n",
       "      <td>17226</td>\n",
       "      <td>30</td>\n",
       "    </tr>\n",
       "    <tr>\n",
       "      <th>binN_8_eps_1.0_FlowGrid</th>\n",
       "      <td>513460</td>\n",
       "      <td>15559</td>\n",
       "      <td>33</td>\n",
       "    </tr>\n",
       "    <tr>\n",
       "      <th>binN_13_eps_1.6_FlowGrid</th>\n",
       "      <td>432011</td>\n",
       "      <td>21601</td>\n",
       "      <td>20</td>\n",
       "    </tr>\n",
       "    <tr>\n",
       "      <th>binN_7_eps_1.6_FlowGrid</th>\n",
       "      <td>238272</td>\n",
       "      <td>14016</td>\n",
       "      <td>17</td>\n",
       "    </tr>\n",
       "    <tr>\n",
       "      <th>binN_8_eps_1.6_FlowGrid</th>\n",
       "      <td>189965</td>\n",
       "      <td>13569</td>\n",
       "      <td>14</td>\n",
       "    </tr>\n",
       "  </tbody>\n",
       "</table>\n",
       "</div>"
      ],
      "text/plain": [
       "                            iCHI    CHI  nobs\n",
       "binN_10_eps_1.0_FlowGrid  882791  19618    45\n",
       "binN_5_eps_1.0_FlowGrid   855735  45039    19\n",
       "binN_7_eps_1.0_FlowGrid   678935  18350    37\n",
       "binN_11_eps_1.0_FlowGrid  678430  14748    46\n",
       "binN_15_eps_1.6_FlowGrid  642825  20736    31\n",
       "binN_9_eps_1.0_FlowGrid   622054  16812    37\n",
       "binN_11_eps_1.6_FlowGrid  615403  29305    21\n",
       "binN_12_eps_1.0_FlowGrid  528115  10156    52\n",
       "binN_6_eps_1.0_FlowGrid   516769  17226    30\n",
       "binN_8_eps_1.0_FlowGrid   513460  15559    33\n",
       "binN_13_eps_1.6_FlowGrid  432011  21601    20\n",
       "binN_7_eps_1.6_FlowGrid   238272  14016    17\n",
       "binN_8_eps_1.6_FlowGrid   189965  13569    14"
      ]
     },
     "execution_count": 8,
     "metadata": {},
     "output_type": "execute_result"
    }
   ],
   "source": [
    "CHI_report"
   ]
  },
  {
   "cell_type": "code",
   "execution_count": null,
   "metadata": {},
   "outputs": [],
   "source": [
    "\n",
    "#Scanpy louvain clustering for comparison\n",
    "\n",
    "sc.pp.neighbors(adata, n_neighbors=10, n_pcs=5)\n",
    "sc.tl.leiden(adata)\n",
    "\n",
    "#umap\n",
    "sc.tl.umap(adata)\n",
    "\n",
    "#Plot figures\n",
    "sc.settings.set_figure_params(dpi=100,facecolor = \"#a3b2ab\")\n",
    "sc.pl.umap(adata, color=recomm_parameters, frameon =False, palette = 'gist_ncar',legend_fontsize = 6, size = 3)"
   ]
  },
  {
   "cell_type": "code",
   "execution_count": null,
   "metadata": {},
   "outputs": [],
   "source": [
    "sc.settings.set_figure_params(dpi=100,facecolor = \"#a3b2ab\")\n",
    "sc.pl.umap(adata, color=['maintype','leiden'], frameon =False, palette = 'gist_ncar',legend_fontsize = 6, size = 3)"
   ]
  },
  {
   "cell_type": "code",
   "execution_count": 12,
   "metadata": {},
   "outputs": [
    {
     "name": "stdout",
     "output_type": "stream",
     "text": [
      "binN_10_eps_1.0_FlowGrid vs.maintype ARI:0.5748\n",
      "binN_5_eps_1.0_FlowGrid vs.maintype ARI:0.5006\n",
      "binN_7_eps_1.0_FlowGrid vs.maintype ARI:0.4564\n"
     ]
    }
   ],
   "source": [
    "fg.AdjustedRandScore(adata,recomm_parameters,['maintype'])"
   ]
  },
  {
   "cell_type": "code",
   "execution_count": 13,
   "metadata": {},
   "outputs": [
    {
     "name": "stdout",
     "output_type": "stream",
     "text": [
      "leiden vs.maintype ARI:0.2555\n"
     ]
    }
   ],
   "source": [
    "fg.AdjustedRandScore(adata,['leiden'],['maintype'])"
   ]
  },
  {
   "cell_type": "code",
   "execution_count": 21,
   "metadata": {
    "scrolled": true
   },
   "outputs": [
    {
     "data": {
      "text/plain": [
       "AnnData object with n_obs × n_vars = 65539 × 3242\n",
       "    obs: 'stim', 'sample', 'maintype', 'celltype', 'subtype', 'binN_14_eps_0.6_FlowGrid', 'binN_14_eps_0.8_FlowGrid', 'binN_5_eps_1.0_FlowGrid', 'binN_6_eps_1.0_FlowGrid', 'binN_7_eps_1.0_FlowGrid', 'binN_8_eps_1.0_FlowGrid', 'binN_9_eps_1.0_FlowGrid', 'binN_10_eps_1.0_FlowGrid', 'binN_11_eps_1.0_FlowGrid', 'binN_12_eps_1.0_FlowGrid', 'binN_5_eps_1.2_FlowGrid', 'binN_6_eps_1.2_FlowGrid', 'binN_7_eps_1.2_FlowGrid', 'binN_8_eps_1.2_FlowGrid', 'binN_9_eps_1.2_FlowGrid', 'binN_10_eps_1.2_FlowGrid', 'binN_11_eps_1.2_FlowGrid', 'binN_12_eps_1.2_FlowGrid', 'binN_5_eps_1.4_FlowGrid', 'binN_6_eps_1.4_FlowGrid', 'binN_7_eps_1.4_FlowGrid', 'binN_8_eps_1.4_FlowGrid', 'binN_9_eps_1.4_FlowGrid', 'binN_10_eps_1.4_FlowGrid', 'binN_11_eps_1.4_FlowGrid', 'binN_12_eps_1.4_FlowGrid', 'binN_7_eps_1.6_FlowGrid', 'binN_8_eps_1.6_FlowGrid', 'binN_11_eps_1.6_FlowGrid', 'binN_13_eps_1.6_FlowGrid', 'binN_15_eps_1.6_FlowGrid', 'leiden'\n",
       "    var: 'highly_variable', 'means', 'dispersions', 'dispersions_norm'\n",
       "    uns: 'log1p', 'hvg', 'pca', 'neighbors', 'leiden', 'umap', 'binN_10_eps_1.0_FlowGrid_colors', 'binN_5_eps_1.0_FlowGrid_colors', 'binN_7_eps_1.0_FlowGrid_colors', 'leiden_colors'\n",
       "    obsm: 'X_pca', 'X_umap'\n",
       "    varm: 'PCs'\n",
       "    obsp: 'distances', 'connectivities'"
      ]
     },
     "execution_count": 21,
     "metadata": {},
     "output_type": "execute_result"
    }
   ],
   "source": [
    "adata"
   ]
  },
  {
   "cell_type": "code",
   "execution_count": 22,
   "metadata": {},
   "outputs": [],
   "source": [
    "fg.keep_labels(adata,recomm_parameters)"
   ]
  },
  {
   "cell_type": "code",
   "execution_count": 23,
   "metadata": {},
   "outputs": [
    {
     "data": {
      "text/plain": [
       "AnnData object with n_obs × n_vars = 65539 × 3242\n",
       "    obs: 'stim', 'sample', 'maintype', 'celltype', 'subtype', 'binN_5_eps_1.0_FlowGrid', 'binN_7_eps_1.0_FlowGrid', 'binN_10_eps_1.0_FlowGrid', 'leiden'\n",
       "    var: 'highly_variable', 'means', 'dispersions', 'dispersions_norm'\n",
       "    uns: 'log1p', 'hvg', 'pca', 'neighbors', 'leiden', 'umap', 'binN_10_eps_1.0_FlowGrid_colors', 'binN_5_eps_1.0_FlowGrid_colors', 'binN_7_eps_1.0_FlowGrid_colors', 'leiden_colors'\n",
       "    obsm: 'X_pca', 'X_umap'\n",
       "    varm: 'PCs'\n",
       "    obsp: 'distances', 'connectivities'"
      ]
     },
     "execution_count": 23,
     "metadata": {},
     "output_type": "execute_result"
    }
   ],
   "source": [
    "adata"
   ]
  },
  {
   "cell_type": "code",
   "execution_count": null,
   "metadata": {},
   "outputs": [],
   "source": []
  }
 ],
 "metadata": {
  "kernelspec": {
   "display_name": "Python 3",
   "language": "python",
   "name": "python3"
  },
  "language_info": {
   "codemirror_mode": {
    "name": "ipython",
    "version": 3
   },
   "file_extension": ".py",
   "mimetype": "text/x-python",
   "name": "python",
   "nbconvert_exporter": "python",
   "pygments_lexer": "ipython3",
   "version": "3.7.6"
  }
 },
 "nbformat": 4,
 "nbformat_minor": 4
}
